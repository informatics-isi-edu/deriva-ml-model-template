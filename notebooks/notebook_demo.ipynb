{
 "cells": [
  {
   "cell_type": "code",
   "id": "initial_id",
   "metadata": {
    "collapsed": true
   },
   "source": [
    "%load_ext autoreload\n",
    "%autoreload 2\n",
    "\n",
    "from deriva_ml import DerivaML, ExecutionConfiguration, DatasetSpec, MLVocab\n",
    "from deriva.core.utils.globus_auth_utils import GlobusNativeLogin\n",
    "\n",
    "hostname = 'dev.eye-ai.org'\n",
    "catalog_id = 'eye-ai'\n",
    "\n",
    "gnl = GlobusNativeLogin(host=hostname)\n",
    "if gnl.is_logged_in([hostname]):\n",
    "    print(\"You are already logged in.\")\n",
    "else:\n",
    "    gnl.login([hostname], no_local_server=True, no_browser=True, refresh_tokens=True, update_bdbag_keychain=True)\n",
    "    print(\"Login Successful\")\n",
    "\n",
    "deriva_ml = DerivaML(hostname=hostname, catalog_id=test_catalog.catalog_id)"
   ],
   "outputs": [],
   "execution_count": null
  },
  {
   "metadata": {},
   "cell_type": "code",
   "source": [
    "datasets = []\n",
    "models = []"
   ],
   "id": "4be757a8a9b30726",
   "outputs": [],
   "execution_count": null
  },
  {
   "metadata": {},
   "cell_type": "code",
   "source": [
    "def do_stuff():\n",
    "    pass"
   ],
   "id": "4f55d3ef20dd2e8a",
   "outputs": [],
   "execution_count": null
  },
  {
   "metadata": {},
   "cell_type": "code",
   "source": [
    "deriva_ml.add_term(MLVocab.workflow_type, \"Demo Notebook\", description=\"Initial setup of Model Notebook\")\n",
    "workflow_rid = deriva_ml.create_workflow('demo-workflow', 'Demo Notebook')\n",
    "\n",
    "config = ExecutionConfiguration(\n",
    "    datasets=[DatasetSpec(rid=dataset, version=deriva_ml.dataset_version(dataset)) for dataset in datasets],\n",
    "    assets=models,\n",
    "    workflow=workflow_rid\n",
    ")\n",
    "execution = deriva_ml.create_execution(config)\n",
    "with execution as e:\n",
    "    do_stuff()\n",
    "execution.upload_execution_outputs()"
   ],
   "id": "864c2fede6e50097",
   "outputs": [],
   "execution_count": null
  }
 ],
 "metadata": {
  "kernelspec": {
   "display_name": "Python 3",
   "language": "python",
   "name": "python3"
  },
  "language_info": {
   "codemirror_mode": {
    "name": "ipython",
    "version": 2
   },
   "file_extension": ".py",
   "mimetype": "text/x-python",
   "name": "python",
   "nbconvert_exporter": "python",
   "pygments_lexer": "ipython2",
   "version": "2.7.6"
  }
 },
 "nbformat": 4,
 "nbformat_minor": 5
}
