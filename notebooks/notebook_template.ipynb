{
 "cells": [
  {
   "cell_type": "markdown",
   "id": "0",
   "metadata": {},
   "source": [
    "# Notebook template for executing code using DerivaML.\n",
    "\n",
    "This notebook should be modified to perform the desired calcuation and *COMITTED* to Gihub prior to execution."
   ]
  },
  {
   "cell_type": "code",
   "execution_count": null,
   "id": "1",
   "metadata": {},
   "outputs": [],
   "source": [
    "%load_ext autoreload\n",
    "%autoreload 2\n",
    "\n",
    "# Change this line to import the domain specific version of DerivaML class.\n",
    "from deriva_ml.demo_catalog import DemoML\n",
    "\n",
    "from deriva_ml import DerivaML, ExecutionConfiguration, Execution, DatasetSpec, MLVocab\n",
    "from deriva.core.utils.globus_auth_utils import GlobusNativeLogin\n",
    "from deriva_ml.demo_catalog import create_demo_catalog\n",
    "\n",
    "# Modify these to your desired server and catalog.\n",
    "hostname = 'dev.eye-ai.org'\n",
    "catalog_id = 'eye-ai'\n",
    "TEST_SERVER = 'dev.eye-ai.org'\n",
    "test_server = True\n",
    "dry_run = False\n",
    "\n",
    "gnl = GlobusNativeLogin(host=hostname)\n",
    "if gnl.is_logged_in([hostname]):\n",
    "    print(\"You are already logged in.\")\n",
    "else:\n",
    "    gnl.login([hostname], no_local_server=True, no_browser=True, refresh_tokens=True, update_bdbag_keychain=True)\n",
    "    print(\"Login Successful\")\n",
    "\n",
    "# Change this line to call the domain specific class derived from DerivaML\n",
    "if test_server:\n",
    "    hostname = TEST_SERVER\n",
    "    catalog = create_demo_catalog(hostname)\n",
    "    catalog_id = catalog.catalog_id\n",
    "\n",
    "deriva_ml = DemoML(hostname=hostname, catalog_id=catalog_id)\n",
    "\n",
    "print(f'Executing script {deriva_ml.executable_path} version: {deriva_ml.get_version()}')\n"
   ]
  },
  {
   "cell_type": "markdown",
   "id": "2",
   "metadata": {},
   "source": [
    "Provide RIDs for datasets to be used and assets to be downloaed."
   ]
  },
  {
   "cell_type": "code",
   "execution_count": null,
   "id": "3",
   "metadata": {},
   "outputs": [],
   "source": [
    "datasets = []\n",
    "models = []"
   ]
  },
  {
   "cell_type": "markdown",
   "id": "4",
   "metadata": {},
   "source": [
    "Provide a function that does the desired calculation.  Access to the downloaded datasets and assets is provided via the execution object.  Place any files to be uploaded into the correct locations using the methods provided via the  execution object."
   ]
  },
  {
   "cell_type": "code",
   "execution_count": null,
   "id": "5",
   "metadata": {},
   "outputs": [],
   "source": [
    "def do_stuff(execution: Execution):\n",
    "    pass"
   ]
  },
  {
   "cell_type": "code",
   "execution_count": null,
   "id": "6",
   "metadata": {},
   "outputs": [],
   "source": [
    "# Create a workflow instance for this specific version of the notebook.  Return an existing workflow if one is found.\n",
    "deriva_ml.add_term(MLVocab.workflow_type, \"Demo Notebook\", description=\"Initial setup of Model Notebook\")\n",
    "workflow = deriva_ml.create_workflow('demo-workflow', 'Demo Notebook')\n",
    "\n",
    "# Create an execution instance that will work with the latest version of the input datasets.\n",
    "config = ExecutionConfiguration(\n",
    "    datasets=[DatasetSpec(rid=dataset, version=deriva_ml.dataset_version(dataset)) for dataset in datasets],\n",
    "    assets=models,\n",
    "    workflow=workflow\n",
    ")\n",
    "execution = deriva_ml.create_execution(config, dry_run=dry_run)\n",
    "with execution as e:\n",
    "    do_stuff(e)\n",
    "execution.upload_execution_outputs()"
   ]
  }
 ],
 "metadata": {
  "kernelspec": {
   "display_name": "Python 3",
   "language": "python",
   "name": "python3"
  },
  "language_info": {
   "codemirror_mode": {
    "name": "ipython",
    "version": 2
   },
   "file_extension": ".py",
   "mimetype": "text/x-python",
   "name": "python",
   "nbconvert_exporter": "python",
   "pygments_lexer": "ipython2",
   "version": "2.7.6"
  }
 },
 "nbformat": 4,
 "nbformat_minor": 5
}
